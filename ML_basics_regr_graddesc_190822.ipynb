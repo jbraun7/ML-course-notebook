{
 "cells": [
  {
   "cell_type": "markdown",
   "metadata": {
    "slideshow": {
     "slide_type": "slide"
    }
   },
   "source": [
    "# <h1><center> Regression and gradient descent</center></h1> <br>\n",
    "## <h1><center> Jonas Braun </center></h1><br>\n",
    "## <h1><center> 22.08.2019 </center></h1><br>"
   ]
  },
  {
   "cell_type": "markdown",
   "metadata": {
    "slideshow": {
     "slide_type": "slide"
    }
   },
   "source": [
    "## 0. content\n",
    "1. regression \n",
    "    1. generative model\n",
    "    2. cost function + closed form solution\n",
    "    3. making predictions\n",
    "    4. polynomial regression\n",
    "2. gradient descent"
   ]
  },
  {
   "cell_type": "code",
   "execution_count": null,
   "metadata": {
    "slideshow": {
     "slide_type": "fragment"
    }
   },
   "outputs": [],
   "source": [
    "import numpy as np\n",
    "import matplotlib.pyplot as plt"
   ]
  },
  {
   "cell_type": "markdown",
   "metadata": {
    "slideshow": {
     "slide_type": "slide"
    }
   },
   "source": [
    "# 1. regression\n",
    "**GOAL**: learn the parameters $\\mathbf{\\theta}$ of a linear model"
   ]
  },
  {
   "cell_type": "markdown",
   "metadata": {
    "slideshow": {
     "slide_type": "skip"
    }
   },
   "source": [
    "<img src=\"C:\\PYTHON_DATA\\jag-hfsp\\predictability\\notebooks\\img\\regression.png\" />"
   ]
  },
  {
   "cell_type": "markdown",
   "metadata": {
    "slideshow": {
     "slide_type": "fragment"
    }
   },
   "source": [
    "## 1.1 generative model\n",
    "$y = \\theta_0 + \\theta_1x_1 + ... \\theta_nx_n + \\epsilon$ <br><br>\n",
    "$y = \\mathbf{\\theta}^\\top\\mathbf{x}+ \\epsilon$\n",
    "<br>\n",
    " - $\\theta_0$: bias term\n",
    " - $\\theta_j$: jth model parameter\n",
    " - $x_j$: jth feature value\n",
    "<br><br>\n",
    " - $\\mathbf{\\theta}$: parameter vector **$\\rightarrow$ want to find**\n",
    " - $\\mathbf{x}$: feature vector"
   ]
  },
  {
   "cell_type": "markdown",
   "metadata": {
    "slideshow": {
     "slide_type": "subslide"
    }
   },
   "source": [
    "## 1.1 generative model\n",
    "$y = \\theta_0 + \\theta_1x_1 + ... \\theta_nx_n + \\epsilon$ <br><br>\n",
    "$y = \\mathbf{\\theta}^\\top\\mathbf{x}+ \\epsilon$"
   ]
  },
  {
   "cell_type": "code",
   "execution_count": 17,
   "metadata": {
    "slideshow": {
     "slide_type": "fragment"
    }
   },
   "outputs": [
    {
     "data": {
      "image/png": "[encoded data removed]",
      "text/plain": [
       "<Figure size 432x288 with 1 Axes>"
      ]
     },
     "metadata": {
      "needs_background": "light"
     },
     "output_type": "display_data"
    }
   ],
   "source": [
    "M = 100  # number of samples\n",
    "X = 2 * np.random.rand(M, 1)  # features (here: N=1)\n",
    "y = 4 + 3 * X + np.random.randn(M, 1)  # generative model\n",
    "plt.plot(X, y, '.', label=\"samples\")\n",
    "plt.plot(np.linspace(0, 2, 10), 4 + 3*np.linspace(0, 2, 10), 'r-', label=\"true model\")\n",
    "plt.grid(); plt.legend();"
   ]
  },
  {
   "cell_type": "markdown",
   "metadata": {
    "slideshow": {
     "slide_type": "slide"
    }
   },
   "source": [
    "## 1.2 cost function and closed form solution\n",
    "$y = \\mathbf{\\theta}^\\top\\mathbf{x}+ \\epsilon$"
   ]
  },
  {
   "cell_type": "markdown",
   "metadata": {
    "slideshow": {
     "slide_type": "fragment"
    }
   },
   "source": [
    "**GOAL**: find paramters $\\mathbf{\\theta}$ that minimise the squared error of the model for all M pairs of $\\mathbf{x}$ and $y$ <br>\n",
    " $\\rightarrow$ define cost function: $MSE(\\theta)=\\sum_{i=1}^M (y_i-\\hat y_i)^2 \n",
    "              = \\frac{1}{M}\\sum_{i=1}^M (y_i-\\theta^\\top\\mathbf{X}_i)^2$"
   ]
  },
  {
   "cell_type": "markdown",
   "metadata": {
    "slideshow": {
     "slide_type": "fragment"
    }
   },
   "source": [
    "##### step 1: taking partial derivative with respect to parameters\n",
    "$\\frac{\\partial MSE(\\theta)}{\\partial \\theta} \n",
    "   = \\sum_{i=1}^M (y_i-\\theta^\\top\\mathbf{X}_i) (-\\mathbf{X}_i^\\top) \n",
    "   = \\sum_{i=1}^M \\theta^\\top\\mathbf{X}_i \\mathbf{X}_i^\\top - y_i \\mathbf{X}_i^\\top $"
   ]
  },
  {
   "cell_type": "markdown",
   "metadata": {
    "slideshow": {
     "slide_type": "fragment"
    }
   },
   "source": [
    "##### step 2: setting derivative to 0\n",
    "$\\sum_{i=1}^M \\theta^\\top\\mathbf{X}_i \\mathbf{X}_i^\\top - y_i \\mathbf{X}_i^\\top  = 0$\n",
    " "
   ]
  },
  {
   "cell_type": "markdown",
   "metadata": {
    "slideshow": {
     "slide_type": "skip"
    }
   },
   "source": [
    "$\\theta^\\top \\sum_{i=1}^M \\mathbf{X}_i \\mathbf{X}_i^\\top= \\sum_{i=1}^M y_i\\mathbf{X}_i^\\top$"
   ]
  },
  {
   "cell_type": "markdown",
   "metadata": {
    "slideshow": {
     "slide_type": "fragment"
    }
   },
   "source": [
    "$\\theta^\\top = (\\sum_{i=1}^M y_i\\mathbf{X}_i^\\top)(\\sum_{i=1}^M \\mathbf{X}_i \\mathbf{X}_i^\\top)^{-1}$"
   ]
  },
  {
   "cell_type": "markdown",
   "metadata": {
    "slideshow": {
     "slide_type": "slide"
    }
   },
   "source": [
    "## 1.2 prediction model\n",
    "> $\\hat y = \\mathbf{\\beta}^\\top\\mathbf{x}$"
   ]
  },
  {
   "cell_type": "code",
   "execution_count": null,
   "metadata": {},
   "outputs": [],
   "source": []
  },
  {
   "cell_type": "code",
   "execution_count": null,
   "metadata": {},
   "outputs": [],
   "source": []
  },
  {
   "cell_type": "code",
   "execution_count": null,
   "metadata": {},
   "outputs": [],
   "source": []
  }
 ],
 "metadata": {
  "celltoolbar": "Slideshow",
  "kernelspec": {
   "display_name": "Python 3",
   "language": "python",
   "name": "python3"
  },
  "language_info": {
   "codemirror_mode": {
    "name": "ipython",
    "version": 3
   },
   "file_extension": ".py",
   "mimetype": "text/x-python",
   "name": "python",
   "nbconvert_exporter": "python",
   "pygments_lexer": "ipython3",
   "version": "3.6.8"
  }
 },
 "nbformat": 4,
 "nbformat_minor": 2
}
